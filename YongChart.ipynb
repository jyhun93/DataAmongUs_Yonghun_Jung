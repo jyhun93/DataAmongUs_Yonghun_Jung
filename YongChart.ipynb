{
 "cells": [
  {
   "cell_type": "code",
   "execution_count": 2,
   "id": "b296483a-18ea-42e5-b34c-482ebc58f4be",
   "metadata": {},
   "outputs": [],
   "source": [
    "import pandas as pd\n",
    "import matplotlib.pyplot as plt\n",
    "%matplotlib inline"
   ]
  },
  {
   "cell_type": "code",
   "execution_count": 4,
   "id": "4435bc48-9319-4578-b80f-a99acefd8447",
   "metadata": {},
   "outputs": [],
   "source": [
    "path = \"data/PsychTest.csv\"\n",
    "psych = pd.read_csv(path)"
   ]
  },
  {
   "cell_type": "code",
   "execution_count": 5,
   "id": "bb79ce77-4170-4fce-81c4-5412fb3a8a38",
   "metadata": {},
   "outputs": [
    {
     "data": {
      "text/plain": [
       "14"
      ]
     },
     "execution_count": 5,
     "metadata": {},
     "output_type": "execute_result"
    }
   ],
   "source": [
    "len(psych)"
   ]
  },
  {
   "cell_type": "code",
   "execution_count": 61,
   "id": "da0a253d-50c2-4b1a-a51d-ceb3389694db",
   "metadata": {},
   "outputs": [],
   "source": [
    "#Finding total number of participants\n",
    "totalPar = len(psych)"
   ]
  },
  {
   "cell_type": "code",
   "execution_count": 7,
   "id": "c2e69fbb-99a9-429a-acb1-99a4d2d4c965",
   "metadata": {},
   "outputs": [
    {
     "data": {
      "text/html": [
       "<div>\n",
       "<style scoped>\n",
       "    .dataframe tbody tr th:only-of-type {\n",
       "        vertical-align: middle;\n",
       "    }\n",
       "\n",
       "    .dataframe tbody tr th {\n",
       "        vertical-align: top;\n",
       "    }\n",
       "\n",
       "    .dataframe thead th {\n",
       "        text-align: right;\n",
       "    }\n",
       "</style>\n",
       "<table border=\"1\" class=\"dataframe\">\n",
       "  <thead>\n",
       "    <tr style=\"text-align: right;\">\n",
       "      <th></th>\n",
       "      <th>Timestamp</th>\n",
       "      <th>Imagine that you are walking along a path. What do you see around you?</th>\n",
       "      <th>What do you see near your feet?</th>\n",
       "      <th>You walk along and find water. In what form is the water?</th>\n",
       "      <th>You see a key in the water and you pick it up. What does it look like?</th>\n",
       "      <th>What do you do next?</th>\n",
       "    </tr>\n",
       "  </thead>\n",
       "  <tbody>\n",
       "    <tr>\n",
       "      <th>0</th>\n",
       "      <td>2023/11/16 3:34:18 PM GMT</td>\n",
       "      <td>Forest, so much forest that you can hardly see...</td>\n",
       "      <td>A bottle</td>\n",
       "      <td>A waterfall</td>\n",
       "      <td>A beautiful antique key</td>\n",
       "      <td>Walk away. You are not that interested</td>\n",
       "    </tr>\n",
       "    <tr>\n",
       "      <th>1</th>\n",
       "      <td>2023/11/16 3:34:19 PM GMT</td>\n",
       "      <td>Softly sloping green hills, with a view of mou...</td>\n",
       "      <td>A mirror</td>\n",
       "      <td>A lake</td>\n",
       "      <td>An ordinary house key</td>\n",
       "      <td>Walk right inside and explore</td>\n",
       "    </tr>\n",
       "    <tr>\n",
       "      <th>2</th>\n",
       "      <td>2023/11/16 3:34:22 PM GMT</td>\n",
       "      <td>Softly sloping green hills, with a view of mou...</td>\n",
       "      <td>A ring</td>\n",
       "      <td>A waterfall</td>\n",
       "      <td>A beautiful antique key</td>\n",
       "      <td>Look into the window</td>\n",
       "    </tr>\n",
       "    <tr>\n",
       "      <th>3</th>\n",
       "      <td>2023/11/16 4:24:04 PM GMT</td>\n",
       "      <td>Softly sloping green hills, with a view of mou...</td>\n",
       "      <td>A bottle</td>\n",
       "      <td>A waterfall</td>\n",
       "      <td>A small silver locker key</td>\n",
       "      <td>Look into the window</td>\n",
       "    </tr>\n",
       "    <tr>\n",
       "      <th>4</th>\n",
       "      <td>2023/11/16 4:30:19 PM GMT</td>\n",
       "      <td>Softly sloping green hills, with a view of mou...</td>\n",
       "      <td>A ring</td>\n",
       "      <td>A lake</td>\n",
       "      <td>A beautiful antique key</td>\n",
       "      <td>Look into the window</td>\n",
       "    </tr>\n",
       "  </tbody>\n",
       "</table>\n",
       "</div>"
      ],
      "text/plain": [
       "                   Timestamp  \\\n",
       "0  2023/11/16 3:34:18 PM GMT   \n",
       "1  2023/11/16 3:34:19 PM GMT   \n",
       "2  2023/11/16 3:34:22 PM GMT   \n",
       "3  2023/11/16 4:24:04 PM GMT   \n",
       "4  2023/11/16 4:30:19 PM GMT   \n",
       "\n",
       "  Imagine that you are walking along a path. What do you see around you?  \\\n",
       "0  Forest, so much forest that you can hardly see...                       \n",
       "1  Softly sloping green hills, with a view of mou...                       \n",
       "2  Softly sloping green hills, with a view of mou...                       \n",
       "3  Softly sloping green hills, with a view of mou...                       \n",
       "4  Softly sloping green hills, with a view of mou...                       \n",
       "\n",
       "  What do you see near your feet?  \\\n",
       "0                        A bottle   \n",
       "1                        A mirror   \n",
       "2                          A ring   \n",
       "3                        A bottle   \n",
       "4                          A ring   \n",
       "\n",
       "  You walk along and find water. In what form is the water?  \\\n",
       "0                                        A waterfall          \n",
       "1                                             A lake          \n",
       "2                                        A waterfall          \n",
       "3                                        A waterfall          \n",
       "4                                             A lake          \n",
       "\n",
       "  You see a key in the water and you pick it up. What does it look like?  \\\n",
       "0                            A beautiful antique key                       \n",
       "1                              An ordinary house key                       \n",
       "2                            A beautiful antique key                       \n",
       "3                          A small silver locker key                       \n",
       "4                            A beautiful antique key                       \n",
       "\n",
       "                     What do you do next?  \n",
       "0  Walk away. You are not that interested  \n",
       "1           Walk right inside and explore  \n",
       "2                    Look into the window  \n",
       "3                    Look into the window  \n",
       "4                    Look into the window  "
      ]
     },
     "execution_count": 7,
     "metadata": {},
     "output_type": "execute_result"
    }
   ],
   "source": [
    "psych.head()"
   ]
  },
  {
   "cell_type": "code",
   "execution_count": 8,
   "id": "4bec3c3f-796c-4875-9b56-2bcfa4e42c9e",
   "metadata": {},
   "outputs": [
    {
     "name": "stdout",
     "output_type": "stream",
     "text": [
      "0     Forest, so much forest that you can hardly see...\n",
      "1     Softly sloping green hills, with a view of mou...\n",
      "2     Softly sloping green hills, with a view of mou...\n",
      "3     Softly sloping green hills, with a view of mou...\n",
      "4     Softly sloping green hills, with a view of mou...\n",
      "5     Softly sloping green hills, with a view of mou...\n",
      "6     Forest, so much forest that you can hardly see...\n",
      "7     Softly sloping green hills, with a view of mou...\n",
      "8     Softly sloping green hills, with a view of mou...\n",
      "9     Forest, so much forest that you can hardly see...\n",
      "10    Forest, so much forest that you can hardly see...\n",
      "11      A yellow corn field against a brillant blue sky\n",
      "12    Forest, so much forest that you can hardly see...\n",
      "13    Forest, so much forest that you can hardly see...\n",
      "Name: Imagine that you are walking along a path. What do you see around you?, dtype: object\n"
     ]
    }
   ],
   "source": [
    "print(psych[\"Imagine that you are walking along a path. What do you see around you?\"])"
   ]
  },
  {
   "cell_type": "code",
   "execution_count": 10,
   "id": "3adbfb12-b9c9-41d9-97fb-295d1ba23b6c",
   "metadata": {},
   "outputs": [],
   "source": [
    "firstQ = psych[\"Imagine that you are walking along a path. What do you see around you?\"]"
   ]
  },
  {
   "cell_type": "code",
   "execution_count": 62,
   "id": "ff0fd07b-7a67-437a-910f-277bdb6cd00b",
   "metadata": {},
   "outputs": [
    {
     "data": {
      "text/plain": [
       "0     Forest, so much forest that you can hardly see...\n",
       "1     Softly sloping green hills, with a view of mou...\n",
       "2     Softly sloping green hills, with a view of mou...\n",
       "3     Softly sloping green hills, with a view of mou...\n",
       "4     Softly sloping green hills, with a view of mou...\n",
       "5     Softly sloping green hills, with a view of mou...\n",
       "6     Forest, so much forest that you can hardly see...\n",
       "7     Softly sloping green hills, with a view of mou...\n",
       "8     Softly sloping green hills, with a view of mou...\n",
       "9     Forest, so much forest that you can hardly see...\n",
       "10    Forest, so much forest that you can hardly see...\n",
       "11      A yellow corn field against a brillant blue sky\n",
       "12    Forest, so much forest that you can hardly see...\n",
       "13    Forest, so much forest that you can hardly see...\n",
       "Name: Imagine that you are walking along a path. What do you see around you?, dtype: object"
      ]
     },
     "execution_count": 62,
     "metadata": {},
     "output_type": "execute_result"
    }
   ],
   "source": [
    "#Store the column of the first question into the variable, firstQ\n",
    "firstQ"
   ]
  },
  {
   "cell_type": "code",
   "execution_count": 64,
   "id": "b7f98d92-d006-40cb-a544-7939d801a36b",
   "metadata": {},
   "outputs": [
    {
     "name": "stdout",
     "output_type": "stream",
     "text": [
      "The Result of the First Question\n",
      "First Choise, Forest: 6\n",
      "Second Choise, Corn field: 1\n",
      "Third Choise, Green hills: 7\n",
      "The most pick: 7 Percentage: 50.0%\n"
     ]
    }
   ],
   "source": [
    "num0 = 0\n",
    "num1 = 0\n",
    "num2 = 0\n",
    "\n",
    "#In order to find the largest Value\n",
    "def largestNum(num1, num2, num3):\n",
    "    if num1 >= num2 and num1 >= num3:\n",
    "        return num1\n",
    "    elif num2 >= num1 and num2 >= num3:\n",
    "        return num2\n",
    "    else:\n",
    "        return num3\n",
    "        \n",
    "#Check which choice got the most picks\n",
    "for i in firstQ:\n",
    "    if i == \"Forest, so much forest that you can hardly see the sky\":\n",
    "        num0 += 1\n",
    "    elif i == \"A yellow corn field against a brillant blue sky\":\n",
    "        num1 += 1\n",
    "    else:\n",
    "        num2 += 1\n",
    "\n",
    "#Print out the number of participants who chose each option for each question, along with its percentage\n",
    "print(\"The Result of the First Question\")\n",
    "print(\"First Choise, Forest: \" + str(num0))\n",
    "print(\"Second Choise, Corn field: \" + str(num1))\n",
    "print(\"Third Choise, Green hills: \" + str(num2))\n",
    "print(\"The most pick: \" + str(largestNum(num0, num1, num2)), \"Percentage: \" + str(100 / (totalPar/largestNum(num0, num1, num2))) + \"%\")"
   ]
  },
  {
   "cell_type": "code",
   "execution_count": 65,
   "id": "f1a6c37c-84e7-48d0-91ba-80783c770a3b",
   "metadata": {},
   "outputs": [
    {
     "data": {
      "text/plain": [
       "Text(0.5, 1.0, 'First Question')"
      ]
     },
     "execution_count": 65,
     "metadata": {},
     "output_type": "execute_result"
    },
    {
     "data": {
      "image/png": "[encoded data removed]",
      "text/plain": [
       "<Figure size 640x480 with 1 Axes>"
      ]
     },
     "metadata": {},
     "output_type": "display_data"
    }
   ],
   "source": [
    "#Create a graph using Matplotlib\n",
    "plt.hist(firstQ, bins = 5)\n",
    "plt.xlabel('Questions')\n",
    "plt.ylabel('Participants')\n",
    "plt.title('First Question')"
   ]
  },
  {
   "cell_type": "code",
   "execution_count": 22,
   "id": "b4c343f2-3f44-4f47-aa80-d472ed71bac7",
   "metadata": {},
   "outputs": [],
   "source": [
    "secondQ = psych[\"What do you see near your feet?\"]"
   ]
  },
  {
   "cell_type": "code",
   "execution_count": 23,
   "id": "7148a340-1a89-480d-ba2a-24d7bce72763",
   "metadata": {},
   "outputs": [
    {
     "data": {
      "text/plain": [
       "0     A bottle\n",
       "1     A mirror\n",
       "2       A ring\n",
       "3     A bottle\n",
       "4       A ring\n",
       "5     A bottle\n",
       "6       A ring\n",
       "7       A ring\n",
       "8     A mirror\n",
       "9       A ring\n",
       "10    A bottle\n",
       "11    A bottle\n",
       "12      A ring\n",
       "13    A mirror\n",
       "Name: What do you see near your feet?, dtype: object"
      ]
     },
     "execution_count": 23,
     "metadata": {},
     "output_type": "execute_result"
    }
   ],
   "source": [
    "secondQ"
   ]
  },
  {
   "cell_type": "code",
   "execution_count": 44,
   "id": "23f63d2a-373a-48e6-9ba6-082ef96115d3",
   "metadata": {},
   "outputs": [
    {
     "name": "stdout",
     "output_type": "stream",
     "text": [
      "The Result of the Second Question\n",
      "First Choise, Mirror: 3\n",
      "Second Choise, Ring: 6\n",
      "Third Choise, Bottle: 5\n",
      "The most pick: 6 Percentage: 42.857142857142854%\n"
     ]
    }
   ],
   "source": [
    "num0 = 0\n",
    "num1 = 0\n",
    "num2 = 0\n",
    "\n",
    "def largestNum(num1, num2, num3):\n",
    "    if num1 >= num2 and num1 >= num3:\n",
    "        return num1\n",
    "    elif num2 >= num1 and num2 >= num3:\n",
    "        return num2\n",
    "    else:\n",
    "        return num3\n",
    "\n",
    "for i in secondQ:\n",
    "    if i == \"A mirror\":\n",
    "        num0 += 1\n",
    "    elif i == \"A ring\":\n",
    "        num1 += 1\n",
    "    else:\n",
    "        num2 += 1\n",
    "print(\"The Result of the Second Question\")\n",
    "print(\"First Choise, Mirror: \" + str(num0))\n",
    "print(\"Second Choise, Ring: \" + str(num1))\n",
    "print(\"Third Choise, Bottle: \" + str(num2))\n",
    "\n",
    "print(\"The most pick: \" + str(largestNum(num0, num1, num2)), \"Percentage: \" + str(100 / (totalPar/largestNum(num0, num1, num2))) + \"%\")"
   ]
  },
  {
   "cell_type": "code",
   "execution_count": 56,
   "id": "67cd0ac6-76e8-4c69-8edc-97b539bd7108",
   "metadata": {},
   "outputs": [
    {
     "data": {
      "text/plain": [
       "Text(0.5, 1.0, 'Second Question')"
      ]
     },
     "execution_count": 56,
     "metadata": {},
     "output_type": "execute_result"
    },
    {
     "data": {
      "image/png": "[encoded data removed]",
      "text/plain": [
       "<Figure size 640x480 with 1 Axes>"
      ]
     },
     "metadata": {},
     "output_type": "display_data"
    }
   ],
   "source": [
    "plt.hist(secondQ, bins = 5)\n",
    "plt.xlabel('Questions')\n",
    "plt.ylabel('Participants')\n",
    "plt.title('Second Question')"
   ]
  },
  {
   "cell_type": "code",
   "execution_count": 26,
   "id": "8c8ed7f5-e9e6-467a-886c-b2825aa57cb5",
   "metadata": {},
   "outputs": [],
   "source": [
    "thirdQ = psych[\"You walk along and find water. In what form is the water?\"]"
   ]
  },
  {
   "cell_type": "code",
   "execution_count": 49,
   "id": "913f6b31-fcf3-44b1-af96-312b13234808",
   "metadata": {},
   "outputs": [
    {
     "name": "stdout",
     "output_type": "stream",
     "text": [
      "The Result of the Third Question\n",
      "First Choise, Lake: 7\n",
      "Second Choise, Waterfall: 6\n",
      "Third Choise, River: 1\n",
      "The most pick: 7 Percentage: 50.0%\n"
     ]
    }
   ],
   "source": [
    "num0 = 0\n",
    "num1 = 0\n",
    "num2 = 0\n",
    "\n",
    "def largestNum(num1, num2, num3):\n",
    "    if num1 >= num2 and num1 >= num3:\n",
    "        return num1\n",
    "    elif num2 >= num1 and num2 >= num3:\n",
    "        return num2\n",
    "    else:\n",
    "        return num3\n",
    "\n",
    "for i in thirdQ:\n",
    "    if i == \"A lake\":\n",
    "        num0 += 1\n",
    "    elif i == \"A waterfall\":\n",
    "        num1 += 1\n",
    "    else:\n",
    "        num2 += 1\n",
    "        \n",
    "print(\"The Result of the Third Question\")\n",
    "print(\"First Choise, Lake: \" + str(num0))\n",
    "print(\"Second Choise, Waterfall: \" + str(num1))\n",
    "print(\"Third Choise, River: \" + str(num2))\n",
    "\n",
    "print(\"The most pick: \" + str(largestNum(num0, num1, num2)), \"Percentage: \" + str(100 / (totalPar/largestNum(num0, num1, num2))) + \"%\")"
   ]
  },
  {
   "cell_type": "code",
   "execution_count": 58,
   "id": "163d18fa-b98e-48c8-a45e-df77e1aa7c1b",
   "metadata": {},
   "outputs": [
    {
     "data": {
      "text/plain": [
       "Text(0.5, 1.0, 'Third Question')"
      ]
     },
     "execution_count": 58,
     "metadata": {},
     "output_type": "execute_result"
    },
    {
     "data": {
      "image/png": "[encoded data removed]",
      "text/plain": [
       "<Figure size 640x480 with 1 Axes>"
      ]
     },
     "metadata": {},
     "output_type": "display_data"
    }
   ],
   "source": [
    "plt.hist(thirdQ, bins = 5)\n",
    "plt.xlabel('Questions')\n",
    "plt.ylabel('Participants')\n",
    "plt.title('Third Question')"
   ]
  },
  {
   "cell_type": "code",
   "execution_count": 29,
   "id": "0e64e4fe-3bf5-4591-a9b3-267c9bbfa67e",
   "metadata": {},
   "outputs": [
    {
     "data": {
      "text/plain": [
       "0     A waterfall\n",
       "1          A lake\n",
       "2     A waterfall\n",
       "3     A waterfall\n",
       "4          A lake\n",
       "5          A lake\n",
       "6     A waterfall\n",
       "7          A lake\n",
       "8          A lake\n",
       "9         A river\n",
       "10    A waterfall\n",
       "11         A lake\n",
       "12    A waterfall\n",
       "13         A lake\n",
       "Name: You walk along and find water. In what form is the water?, dtype: object"
      ]
     },
     "execution_count": 29,
     "metadata": {},
     "output_type": "execute_result"
    }
   ],
   "source": [
    "thirdQ"
   ]
  },
  {
   "cell_type": "code",
   "execution_count": 37,
   "id": "b8ac51bb-554c-4a3c-b544-fdffe21e1257",
   "metadata": {},
   "outputs": [],
   "source": [
    "fourthQ = psych[\"You see a key in the water and you pick it up. What does it look like?\"]"
   ]
  },
  {
   "cell_type": "code",
   "execution_count": 52,
   "id": "fdcfd255-7154-4ea6-bf18-ce2a2ea61ef5",
   "metadata": {},
   "outputs": [
    {
     "name": "stdout",
     "output_type": "stream",
     "text": [
      "The Result of the Fourth Question\n",
      "First Choise, House key: 1\n",
      "Second Choise, Antique key: 10\n",
      "Third Choise, Locker key: 3\n",
      "The most pick: 10 Percentage: 71.42857142857143%\n"
     ]
    }
   ],
   "source": [
    "num0 = 0\n",
    "num1 = 0\n",
    "num2 = 0\n",
    "\n",
    "def largestNum(num1, num2, num3):\n",
    "    if num1 >= num2 and num1 >= num3:\n",
    "        return num1\n",
    "    elif num2 >= num1 and num2 >= num3:\n",
    "        return num2\n",
    "    else:\n",
    "        return num3\n",
    "\n",
    "for i in fourthQ:\n",
    "    if i == \"An ordinary house key\":\n",
    "        num0 += 1\n",
    "    elif i == \"A beautiful antique key\":\n",
    "        num1 += 1\n",
    "    else:\n",
    "        num2 += 1\n",
    "        \n",
    "print(\"The Result of the Fourth Question\")\n",
    "print(\"First Choise, House key: \" + str(num0))\n",
    "print(\"Second Choise, Antique key: \" + str(num1))\n",
    "print(\"Third Choise, Locker key: \" + str(num2))\n",
    "\n",
    "print(\"The most pick: \" + str(largestNum(num0, num1, num2)), \"Percentage: \" + str(100 / (totalPar/largestNum(num0, num1, num2))) + \"%\")"
   ]
  },
  {
   "cell_type": "code",
   "execution_count": 59,
   "id": "e5c28176-406f-4987-949a-f47ec59cc3c8",
   "metadata": {},
   "outputs": [
    {
     "data": {
      "text/plain": [
       "Text(0.5, 1.0, 'Fourth Question')"
      ]
     },
     "execution_count": 59,
     "metadata": {},
     "output_type": "execute_result"
    },
    {
     "data": {
      "image/png": "[encoded data removed]",
      "text/plain": [
       "<Figure size 640x480 with 1 Axes>"
      ]
     },
     "metadata": {},
     "output_type": "display_data"
    }
   ],
   "source": [
    "plt.hist(fourthQ, bins = 5)\n",
    "plt.xlabel('Questions')\n",
    "plt.ylabel('Participants')\n",
    "plt.title('Fourth Question')"
   ]
  },
  {
   "cell_type": "code",
   "execution_count": 39,
   "id": "a5cc0fe6-d275-4abf-aa68-cbd9d82557b8",
   "metadata": {},
   "outputs": [],
   "source": [
    "fifthQ = psych[\"What do you do next?\"]"
   ]
  },
  {
   "cell_type": "code",
   "execution_count": 54,
   "id": "a1800512-29d4-4856-90fc-30e9ba7bf17f",
   "metadata": {},
   "outputs": [
    {
     "name": "stdout",
     "output_type": "stream",
     "text": [
      "The Result of the Last Question\n",
      "First Choise, Look into the window: 6\n",
      "Second Choise, Walk right inside and explore: 6\n",
      "Third Choise, Walk away: 2\n",
      "The most pick: 6 Percentage: 42.857142857142854%\n"
     ]
    }
   ],
   "source": [
    "num0 = 0\n",
    "num1 = 0\n",
    "num2 = 0\n",
    "\n",
    "def largestNum(num1, num2, num3):\n",
    "    if num1 >= num2 and num1 >= num3:\n",
    "        return num1\n",
    "    elif num2 >= num1 and num2 >= num3:\n",
    "        return num2\n",
    "    else:\n",
    "        return num3\n",
    "\n",
    "for i in fifthQ:\n",
    "    if i == \"Look into the window\":\n",
    "        num0 += 1\n",
    "    elif i == \"Walk right inside and explore\":\n",
    "        num1 += 1\n",
    "    else:\n",
    "        num2 += 1\n",
    "        \n",
    "print(\"The Result of the Last Question\")\n",
    "print(\"First Choise, Look into the window: \" + str(num0))\n",
    "print(\"Second Choise, Walk right inside and explore: \" + str(num1))\n",
    "print(\"Third Choise, Walk away: \" + str(num2))\n",
    "\n",
    "print(\"The most pick: \" + str(largestNum(num0, num1, num2)), \"Percentage: \" + str(100 / (totalPar/largestNum(num0, num1, num2))) + \"%\")"
   ]
  },
  {
   "cell_type": "code",
   "execution_count": 60,
   "id": "c13425ce-109a-4f3f-b43b-f04fe5817360",
   "metadata": {},
   "outputs": [
    {
     "data": {
      "text/plain": [
       "Text(0.5, 1.0, 'Fifth Question')"
      ]
     },
     "execution_count": 60,
     "metadata": {},
     "output_type": "execute_result"
    },
    {
     "data": {
      "image/png": "[encoded data removed]",
      "text/plain": [
       "<Figure size 640x480 with 1 Axes>"
      ]
     },
     "metadata": {},
     "output_type": "display_data"
    }
   ],
   "source": [
    "plt.hist(fifthQ, bins = 5)\n",
    "plt.xlabel('Questions')\n",
    "plt.ylabel('Participants')\n",
    "plt.title('Fifth Question')"
   ]
  },
  {
   "cell_type": "code",
   "execution_count": null,
   "id": "dbfa9a06-8a32-4220-8d4f-c8f10f4487d3",
   "metadata": {},
   "outputs": [],
   "source": []
  }
 ],
 "metadata": {
  "kernelspec": {
   "display_name": "Python 3 (ipykernel)",
   "language": "python",
   "name": "python3"
  },
  "language_info": {
   "codemirror_mode": {
    "name": "ipython",
    "version": 3
   },
   "file_extension": ".py",
   "mimetype": "text/x-python",
   "name": "python",
   "nbconvert_exporter": "python",
   "pygments_lexer": "ipython3",
   "version": "3.12.0"
  }
 },
 "nbformat": 4,
 "nbformat_minor": 5
}
